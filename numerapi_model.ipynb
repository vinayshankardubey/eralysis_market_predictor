{
  "nbformat": 4,
  "nbformat_minor": 0,
  "metadata": {
    "colab": {
      "provenance": [],
      "authorship_tag": "ABX9TyNRhr422BjLNXHRSTXZmiZJ",
      "include_colab_link": true
    },
    "kernelspec": {
      "name": "python3",
      "display_name": "Python 3"
    },
    "language_info": {
      "name": "python"
    }
  },
  "cells": [
    {
      "cell_type": "markdown",
      "metadata": {
        "id": "view-in-github",
        "colab_type": "text"
      },
      "source": [
        "<a href=\"https://colab.research.google.com/github/vinayshankardubey/eralysis_market_predictor/blob/main/numerapi_model.ipynb\" target=\"_parent\"><img src=\"https://colab.research.google.com/assets/colab-badge.svg\" alt=\"Open In Colab\"/></a>"
      ]
    },
    {
      "cell_type": "code",
      "execution_count": null,
      "metadata": {
        "colab": {
          "base_uri": "https://localhost:8080/"
        },
        "id": "nQ0bo-pUrLBw",
        "outputId": "80f43f81-4ee3-4248-b588-a7c4edaa88e0"
      },
      "outputs": [
        {
          "output_type": "stream",
          "name": "stdout",
          "text": [
            "Collecting numerapi\n",
            "  Downloading numerapi-2.16.1-py3-none-any.whl (27 kB)\n",
            "Requirement already satisfied: requests in /usr/local/lib/python3.10/dist-packages (from numerapi) (2.31.0)\n",
            "Requirement already satisfied: pytz in /usr/local/lib/python3.10/dist-packages (from numerapi) (2023.3.post1)\n",
            "Requirement already satisfied: python-dateutil in /usr/local/lib/python3.10/dist-packages (from numerapi) (2.8.2)\n",
            "Requirement already satisfied: tqdm>=4.29.1 in /usr/local/lib/python3.10/dist-packages (from numerapi) (4.66.1)\n",
            "Requirement already satisfied: click>=7.0 in /usr/local/lib/python3.10/dist-packages (from numerapi) (8.1.7)\n",
            "Requirement already satisfied: pandas>=1.1.0 in /usr/local/lib/python3.10/dist-packages (from numerapi) (1.5.3)\n",
            "Requirement already satisfied: numpy>=1.21.0 in /usr/local/lib/python3.10/dist-packages (from pandas>=1.1.0->numerapi) (1.23.5)\n",
            "Requirement already satisfied: six>=1.5 in /usr/local/lib/python3.10/dist-packages (from python-dateutil->numerapi) (1.16.0)\n",
            "Requirement already satisfied: charset-normalizer<4,>=2 in /usr/local/lib/python3.10/dist-packages (from requests->numerapi) (3.3.0)\n",
            "Requirement already satisfied: idna<4,>=2.5 in /usr/local/lib/python3.10/dist-packages (from requests->numerapi) (3.4)\n",
            "Requirement already satisfied: urllib3<3,>=1.21.1 in /usr/local/lib/python3.10/dist-packages (from requests->numerapi) (2.0.7)\n",
            "Requirement already satisfied: certifi>=2017.4.17 in /usr/local/lib/python3.10/dist-packages (from requests->numerapi) (2023.7.22)\n",
            "Installing collected packages: numerapi\n",
            "Successfully installed numerapi-2.16.1\n"
          ]
        }
      ],
      "source": [
        "!pip install numerapi"
      ]
    },
    {
      "cell_type": "code",
      "source": [
        "import numerapi\n",
        "\n",
        "from numerapi import NumerAPI\n",
        "napi = NumerAPI()\n",
        "\n",
        "# Let's see what files are available for download in the latest v4.2 dataset\n",
        "[f for f in napi.list_datasets() if f.startswith(\"v4.2\")]\n",
        "\n",
        "['v4.2/features.json',\n",
        " 'v4.2/live_int8.parquet',\n",
        " 'v4.2/live_example_preds.csv',\n",
        " 'v4.2/live_example_preds.parquet',\n",
        " 'v4.2/meta_model.parquet',\n",
        " 'v4.2/train_int8.parquet',\n",
        " 'v4.2/validation_example_preds.csv',\n",
        " 'v4.2/validation_example_preds.parquet',\n",
        " 'v4.2/validation_int8.parquet']\n",
        "\n",
        "# Download the training data\n",
        "napi.download_dataset(\"v4.2/train_int8.parquet\")"
      ],
      "metadata": {
        "colab": {
          "base_uri": "https://localhost:8080/",
          "height": 53
        },
        "id": "UQyqaPV_rP75",
        "outputId": "2ddee492-4bf1-4745-b7ac-317fd499f0cb"
      },
      "execution_count": null,
      "outputs": [
        {
          "output_type": "stream",
          "name": "stderr",
          "text": [
            "v4.2/train_int8.parquet: 1.88GB [02:28, 12.7MB/s]                            \n"
          ]
        },
        {
          "output_type": "execute_result",
          "data": {
            "text/plain": [
              "'v4.2/train_int8.parquet'"
            ],
            "application/vnd.google.colaboratory.intrinsic+json": {
              "type": "string"
            }
          },
          "metadata": {},
          "execution_count": 4
        }
      ]
    },
    {
      "cell_type": "code",
      "source": [],
      "metadata": {
        "id": "l6Wa5I-KracA"
      },
      "execution_count": null,
      "outputs": []
    }
  ]
}